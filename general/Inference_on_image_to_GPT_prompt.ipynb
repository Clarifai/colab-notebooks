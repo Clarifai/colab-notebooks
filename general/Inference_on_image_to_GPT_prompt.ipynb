{
 "cells": [
  {
   "cell_type": "markdown",
   "metadata": {
    "id": "e7nD65mrlsPP"
   },
   "source": [
    "# ChatGPT Prompts with Clarifai\n",
    "\n",
    "![Clarifai logo](https://www.clarifai.com/hs-fs/hubfs/logo/Clarifai/clarifai-740x150.png?width=240)\n",
    "\n",
    "This is a self-contained notebook that shows how to run the Clarifai Recognition model with your account credentials, and start creating fun prompts for ChatGPT using your images. This notebook has been done manually for simplicity, but all these features can be automated at scale for use in digital asset management applications."
   ]
  },
  {
   "attachments": {},
   "cell_type": "markdown",
   "metadata": {
    "id": "7pdqgUA0mG8c"
   },
   "source": [
    "[![Open in Colab](https://colab.research.google.com/assets/colab-badge.svg)](https://colab.research.google.com/github/Clarifai/colab-notebooks/blob/main/general/Inference_on_image_to_GPT_prompt.ipynb)\n",
    "\n",
    "## Get Started \n",
    "\n",
    "*  Install Clarifai gRPC client for Python and the latest protobuf"
   ]
  },
  {
   "cell_type": "code",
   "execution_count": 1,
   "metadata": {
    "colab": {
     "base_uri": "https://localhost:8080/"
    },
    "id": "PGVi7YDjmAGN",
    "outputId": "572dc190-5588-4f2a-dbeb-4a93a3192127"
   },
   "outputs": [],
   "source": [
    "!pip install -q clarifai-grpc && pip install --upgrade --no-deps -q protobuf "
   ]
  },
  {
   "cell_type": "markdown",
   "metadata": {
    "id": "PliqEoAEmjlf"
   },
   "source": [
    "*   Install other dependencies\n",
    "\n"
   ]
  },
  {
   "cell_type": "code",
   "execution_count": 2,
   "metadata": {
    "id": "1B1Ipm6Gmlqb"
   },
   "outputs": [],
   "source": [
    "import os\n",
    "from io import BytesIO\n",
    "import skimage \n",
    "import IPython.display\n",
    "import matplotlib.pyplot as plt\n",
    "import urllib.request\n",
    "from PIL import Image\n",
    "import numpy as np\n",
    "\n",
    "%matplotlib inline"
   ]
  },
  {
   "cell_type": "markdown",
   "metadata": {
    "id": "EEYxsT_7eJOJ"
   },
   "source": [
    "## Initialize the Clarifai gRPC-based client\n",
    "Let's import the gRPC-based objects needed to communicate with the Clarifai platform."
   ]
  },
  {
   "cell_type": "code",
   "execution_count": 3,
   "metadata": {
    "id": "yNbucu7snokY"
   },
   "outputs": [],
   "source": [
    "from clarifai_grpc.channel.clarifai_channel import ClarifaiChannel\n",
    "from clarifai_grpc.grpc.api import resources_pb2, service_pb2, service_pb2_grpc\n",
    "from clarifai_grpc.grpc.api.status import status_pb2, status_code_pb2\n",
    "\n",
    "# Construct the communications channel \n",
    "channel = ClarifaiChannel.get_grpc_channel()\n",
    "# Construct the V2Stub object for accessing all the Clarifai API functionality\n",
    "stub = service_pb2_grpc.V2Stub(channel)\n"
   ]
  },
  {
   "cell_type": "markdown",
   "metadata": {
    "id": "O9aCvEy6gbDY"
   },
   "source": [
    "## Set up Authorization\n",
    "\n",
    "Set up the metadata object that’s used to authenticate your access to the Clarifai platform.\n",
    "\n",
    "To create or find a PAT, in Clarifai Community, click on the circular icon for your username in the top right, select “Security”, and then create a PAT or copy an existing one if you’ve already created one. You can follow the below screenshots to see where to find and create PATs.\n",
    "\n",
    "You can find more information on [this page](https://docs.clarifai.com/clarifai-basics/authentication/authorize/).\n",
    "\n",
    "<img src=\"images/notebook1-sk.jpg\" alt=\"drawing\" width=\"800\" height=\"750\"/>\n",
    "<img src=\"images/notebook2-sk.jpg\" alt=\"drawing\" width=\"800\" height=\"750\"/>\n",
    "\n",
    "\n",
    "<!-- ![](images/notebook1-sk.jpg) -->\n",
    "<!-- ![](images/notebook2-sk.jpg) -->"
   ]
  },
  {
   "cell_type": "code",
   "execution_count": 4,
   "metadata": {},
   "outputs": [],
   "source": [
    "PAT = 'YOUR_PAT_HERE'"
   ]
  },
  {
   "cell_type": "code",
   "execution_count": 5,
   "metadata": {
    "id": "giuvkD3Fh5ZN"
   },
   "outputs": [],
   "source": [
    "USER_ID = 'clarifai'\n",
    "APP_ID = 'main'\n",
    "\n",
    "# Change these to whatever model and image URL you want to use\n",
    "MODEL_ID = 'general-image-recognition'\n",
    "MODEL_VERSION_ID = 'aa7f35c01e0642fda5cf400f543e7c40'\n",
    "IMAGE_URL = 'https://samples.clarifai.com/metro-north.jpg'\n",
    "\n",
    "metadata = (('authorization', 'Key ' + PAT),)\n",
    "userDataObject = resources_pb2.UserAppIDSet(user_id=USER_ID, app_id=APP_ID)"
   ]
  },
  {
   "cell_type": "markdown",
   "metadata": {},
   "source": [
    "## Let's preview the image you used in the URL to see what we're working with"
   ]
  },
  {
   "cell_type": "code",
   "execution_count": 6,
   "metadata": {},
   "outputs": [
    {
     "data": {
      "text/html": [
       "<img src=\"https://samples.clarifai.com/metro-north.jpg\"/>"
      ],
      "text/plain": [
       "<IPython.core.display.Image object>"
      ]
     },
     "execution_count": 6,
     "metadata": {},
     "output_type": "execute_result"
    }
   ],
   "source": [
    "IPython.display.Image(url=IMAGE_URL)"
   ]
  },
  {
   "cell_type": "markdown",
   "metadata": {
    "id": "kbnkDUMDqmSH"
   },
   "source": [
    "## Collect Your Inputs\n",
    "\n",
    "Let's grab the images we'll use for making the predictions. "
   ]
  },
  {
   "cell_type": "code",
   "execution_count": 7,
   "metadata": {
    "colab": {
     "base_uri": "https://localhost:8080/",
     "height": 369
    },
    "id": "V5NQA-Xpm2T_",
    "outputId": "b99762ff-9a6b-449c-dab3-594fa475eb75"
   },
   "outputs": [
    {
     "name": "stdout",
     "output_type": "stream",
     "text": [
      "Predicted concepts:\n",
      "train 1.00\n",
      "railway 1.00\n",
      "subway system 1.00\n",
      "station 1.00\n",
      "locomotive 1.00\n",
      "transportation system 1.00\n",
      "travel 0.99\n",
      "commuter 0.98\n",
      "platform 0.98\n",
      "light 0.97\n",
      "train station 0.97\n",
      "blur 0.97\n",
      "city 0.96\n",
      "road 0.96\n",
      "urban 0.96\n",
      "traffic 0.96\n",
      "street 0.95\n",
      "public 0.93\n",
      "tramway 0.93\n",
      "business 0.93\n"
     ]
    }
   ],
   "source": [
    "post_model_outputs_response = stub.PostModelOutputs(\n",
    "    service_pb2.PostModelOutputsRequest(\n",
    "        user_app_id=userDataObject,  # The userDataObject is created in the overview and is required when using a PAT\n",
    "        model_id=MODEL_ID,\n",
    "        version_id=MODEL_VERSION_ID,  # This is optional. Defaults to the latest model version\n",
    "        inputs=[\n",
    "            resources_pb2.Input(\n",
    "                data=resources_pb2.Data(\n",
    "                    image=resources_pb2.Image(\n",
    "                        url=IMAGE_URL\n",
    "                    )\n",
    "                )\n",
    "            )\n",
    "        ]\n",
    "    ),\n",
    "    metadata=metadata\n",
    ")\n",
    "if post_model_outputs_response.status.code != status_code_pb2.SUCCESS:\n",
    "    print(post_model_outputs_response.status)\n",
    "    raise Exception(\"Post model outputs failed, status: \" + post_model_outputs_response.status.description)\n",
    "\n",
    "# Since we have one input, one output will exist here\n",
    "output = post_model_outputs_response.outputs[0]\n",
    "\n",
    "print(\"Predicted concepts:\")\n",
    "for concept in output.data.concepts:\n",
    "    print(\"%s %.2f\" % (concept.name, concept.value))"
   ]
  },
  {
   "cell_type": "markdown",
   "metadata": {
    "id": "98sIxFhLl2Kt"
   },
   "source": [
    "## Choose a minimum threshold and max concepts"
   ]
  },
  {
   "cell_type": "markdown",
   "metadata": {
    "id": "OcScUBlktYQv"
   },
   "source": [
    "Let's set both a minimum confidence level (ie. we want the model to be at least 80% confidence that the concept is in the image) and a maximum number of concepts to return. We don't want to create prompts with 50 concepts in them!"
   ]
  },
  {
   "cell_type": "code",
   "execution_count": 8,
   "metadata": {
    "id": "9m6KzJKgtEy-"
   },
   "outputs": [],
   "source": [
    "THRESHOLD = 0.98\n",
    "MAX_CONCEPTS = 5"
   ]
  },
  {
   "cell_type": "markdown",
   "metadata": {
    "id": "q5DGyQ6Hmo1s"
   },
   "source": [
    "## Show the list of concepts we'll use\n",
    "Here we'll just apply the threshold and maximum so that we can get a nicely formatted list. Since the concepts are return in order, once we hit either limit we can leave the loop\n"
   ]
  },
  {
   "cell_type": "code",
   "execution_count": 9,
   "metadata": {
    "id": "XvhV53DVsuDL"
   },
   "outputs": [
    {
     "name": "stdout",
     "output_type": "stream",
     "text": [
      "train, railway, subway system, station, locomotive.\n"
     ]
    }
   ],
   "source": [
    "concept_list = []\n",
    "for count, concept in enumerate(output.data.concepts):\n",
    "    # Once we have enough concepts, or they're no longer confident enough, quit the loop.\n",
    "    if (count >= MAX_CONCEPTS) or (round(concept.value, 2) < THRESHOLD):\n",
    "        break\n",
    "    concept_list.append(concept.name)    \n",
    "\n",
    "# Assemble the string by joining the list together separated by commas and terminated with a period.\n",
    "prompt_end = \", \".join(concept_list) + \".\"\n",
    "print(prompt_end)\n"
   ]
  },
  {
   "cell_type": "markdown",
   "metadata": {},
   "source": [
    "## Let's make some prompts for ChatGPT!\n",
    "We're going to generate some prompts, print and print them out. For simplicity in this demo we'll copy and paate them into ChatGPT, however with the recent release of the API for ChatGPT this could be automated!\n",
    "\n",
    "# Travel Agent"
   ]
  },
  {
   "cell_type": "code",
   "execution_count": 10,
   "metadata": {
    "id": "H6poRlvIsmAD"
   },
   "outputs": [
    {
     "name": "stdout",
     "output_type": "stream",
     "text": [
      "You are a travel agent. You want to recommend I visit a place that contains the following things: train, railway, subway system, station, locomotive.\n"
     ]
    }
   ],
   "source": [
    "travel_prompt = \"You are a travel agent. You want to recommend I visit a place \\\n",
    "that contains the following things: \"\n",
    "print(travel_prompt + prompt_end)"
   ]
  },
  {
   "cell_type": "markdown",
   "metadata": {},
   "source": [
    "### ChatGPT Response\n",
    "> Based on your interest in trains, railways, subway systems, stations, and locomotives, I would recommend visiting Tokyo, Japan.\n",
    "\n",
    "> Tokyo has an extensive railway system, including the famous Shinkansen bullet train that can take you to other parts of Japan at high speeds. The city also has a modern and efficient subway system, which is a popular mode of transportation for locals and tourists alike.\n",
    "\n",
    "> There are several historic train stations in Tokyo, such as Tokyo Station and Shinjuku Station, which are worth visiting for their impressive architecture and bustling atmosphere. Additionally, there are several train museums and locomotive-themed attractions in the city, such as the Railway Museum and the Omiya Railway Museum.\n",
    "\n",
    "> Overall, Tokyo is a great destination for train enthusiasts and those interested in transportation history."
   ]
  },
  {
   "cell_type": "markdown",
   "metadata": {},
   "source": [
    "# Personal Trainer"
   ]
  },
  {
   "cell_type": "code",
   "execution_count": 11,
   "metadata": {
    "id": "H6poRlvIsmAD"
   },
   "outputs": [
    {
     "name": "stdout",
     "output_type": "stream",
     "text": [
      "You are a personal trainer. Suggest some way I could get in shape using the following things: train, railway, subway system, station, locomotive.\n"
     ]
    }
   ],
   "source": [
    "trainer_prompt = \"You are a personal trainer. Suggest some way I could get in shape using the following things: \"\n",
    "print(trainer_prompt + prompt_end)"
   ]
  },
  {
   "cell_type": "markdown",
   "metadata": {},
   "source": [
    "### ChatGPT Response\n",
    "> While trains, railways, subway systems, stations, and locomotives are not typically associated with fitness, there are still some ways that you can use these elements to help you get in shape:\n",
    "\n",
    "> 1. Use public transportation: Instead of driving or taking a taxi, consider using public transportation such as trains or subways to get to your destination. Walking to and from the station can add some extra steps to your day and help you burn some extra calories.\n",
    "2. Stair workouts: Many train stations have multiple levels and lots of stairs. You can use these stairs to do stair workouts, which are great for building lower body strength and cardiovascular endurance. You can also use the stairs as a form of cardio by doing stair sprints or stair jumps.\n",
    "3. Train station workouts: While waiting for your train, use the benches and walls of the station to do exercises such as push-ups, squats, lunges, and tricep dips. You can also use resistance bands to do a variety of exercises.\n",
    "4. Train or subway workouts: If you're on a long train or subway ride, use the time to do some bodyweight exercises or stretches. You can do things like squats, lunges, calf raises, or even yoga poses.\n",
    "\n",
    "> Overall, while trains, railways, subway systems, stations, and locomotives are not traditional fitness tools, there are still some creative ways that you can incorporate them into your workout routine."
   ]
  },
  {
   "cell_type": "markdown",
   "metadata": {},
   "source": [
    "# Social Media Influencer"
   ]
  },
  {
   "cell_type": "code",
   "execution_count": 12,
   "metadata": {
    "id": "H6poRlvIsmAD"
   },
   "outputs": [
    {
     "name": "stdout",
     "output_type": "stream",
     "text": [
      "You are a social media influencer. Make a post hyping up all the things in this list, how amazing your life is, and how everyone else can be like you if they get these things: train, railway, subway system, station, locomotive.\n"
     ]
    }
   ],
   "source": [
    "annoying_prompt = \"You are a social media influencer. Make a post hyping up all the things in this list, \\\n",
    "how amazing your life is, and how everyone else can be like you if they get these things: \"\n",
    "print(annoying_prompt + prompt_end)"
   ]
  },
  {
   "cell_type": "markdown",
   "metadata": {},
   "source": [
    "### ChatGPT Response\n",
    "> Hey everyone, are you ready to take your life to the next level? If you want to experience the ultimate in travel and transportation, then you need to get on board with trains, railways, subway systems, stations, and locomotives!\n",
    "\n",
    "> My life is absolutely amazing thanks to these incredible modes of transportation. From the speedy bullet trains to the classic steam locomotives, I've experienced some of the most breathtaking and unforgettable journeys of my life.\n",
    "\n",
    "> There's nothing quite like the feeling of riding the rails, gliding past stunning scenery and feeling the wind in your hair. And with so many different options to choose from, you can always find the perfect way to get where you need to go.\n",
    "\n",
    "> Whether you're commuting to work, traveling across the country, or just exploring your local area, trains, railways, subway systems, stations, and locomotives have everything you need to live your best life. So why wait? Get on board today and start experiencing the incredible adventure that awaits you!"
   ]
  },
  {
   "cell_type": "markdown",
   "metadata": {},
   "source": [
    "# Financial Analyst"
   ]
  },
  {
   "cell_type": "code",
   "execution_count": 13,
   "metadata": {
    "id": "H6poRlvIsmAD"
   },
   "outputs": [
    {
     "name": "stdout",
     "output_type": "stream",
     "text": [
      "You are a financial analyst. Talk about how using the things in this list can benefit a person financially: train, railway, subway system, station, locomotive.\n"
     ]
    }
   ],
   "source": [
    "finance_prompt = \"You are a financial analyst. Talk about how using the things in this list can benefit \\\n",
    "a person financially: \"\n",
    "print(finance_prompt + prompt_end)"
   ]
  },
  {
   "cell_type": "markdown",
   "metadata": {},
   "source": [
    "### ChatGPT Response\n",
    "> While trains, railways, subway systems, stations, and locomotives may not seem like traditional financial tools, there are actually several ways that they can benefit a person financially:\n",
    "\n",
    "> 1. Cost-effective transportation: In many cases, using trains, railways, and subways can be a cost-effective alternative to driving or flying. Depending on your location and destination, taking a train or subway may be significantly cheaper than renting a car or buying a plane ticket.\n",
    "2. Reduced fuel and maintenance costs: If you own a car, using public transportation instead can help you save money on fuel costs and reduce wear and tear on your vehicle. This can lead to lower maintenance costs and a longer lifespan for your car.\n",
    "3. Time-saving: While taking a train or subway may not always be faster than driving, it can save you time in other ways. For example, you can use the time on the train to work, read, or relax, rather than being stuck in traffic.\n",
    "4. Reduced stress: Driving in heavy traffic or navigating unfamiliar roads can be stressful and exhausting. By using trains or subways, you can avoid this stress and arrive at your destination feeling refreshed and relaxed.\n",
    "\n",
    "> Overall, while trains, railways, subway systems, stations, and locomotives may not seem like obvious financial tools, they can offer several financial benefits, including cost-effective transportation, reduced fuel and maintenance costs, time-saving, and reduced stress."
   ]
  },
  {
   "cell_type": "markdown",
   "metadata": {},
   "source": [
    "# Wacky Inventor"
   ]
  },
  {
   "cell_type": "code",
   "execution_count": 14,
   "metadata": {
    "id": "H6poRlvIsmAD"
   },
   "outputs": [
    {
     "name": "stdout",
     "output_type": "stream",
     "text": [
      "You are a quirky, eccentric inventor who sees everything in the world as a potential invention or gadget. You might come up with wacky and off-the-wall ideas for how to use the things in the following list, or you might have a unique perspective on how to approach everyday problems. You could add a humorous twist and make your answer more entertaining and engaging. Here is the list: train, railway, subway system, station, locomotive.\n"
     ]
    }
   ],
   "source": [
    "inventor_prompt = \"You are a quirky, eccentric inventor who sees everything in the world as a potential \\\n",
    "invention or gadget. You might come up with wacky and off-the-wall ideas for how to use the things in the \\\n",
    "following list, or you might have a unique perspective on how to approach everyday problems. \\\n",
    "You could add a humorous twist and make your answer more entertaining and engaging. \\\n",
    "Here is the list: \"\n",
    "print(inventor_prompt + prompt_end)"
   ]
  },
  {
   "cell_type": "markdown",
   "metadata": {},
   "source": [
    "### ChatGPT Response\n",
    "> Ah, the wonderful world of transportation! As an inventor, I'm always looking for new and exciting ways to use everyday objects. And trains, railways, subway systems, stations, and locomotives are no exception. Here are a few of my wacky and off-the-wall ideas:\n",
    "\n",
    "> 1. The Train-ucopia: Why settle for a boring old train ride when you can have an immersive, multi-sensory experience? My Train-ucopia invention would transform the inside of a train car into a magical wonderland of sights, sounds, and smells. Imagine riding through a field of flowers, surrounded by the scent of lavender, or traveling through a rainforest, with the sounds of exotic birds chirping in the background. The Train-ucopia would be the ultimate sensory experience!\n",
    "2. The Loco-mocha: Who says a locomotive can't also make a mean cup of coffee? My Loco-mocha invention would transform the front of a locomotive into a fully functioning coffee shop. Imagine sipping a latte while you watch the scenery whiz by. Plus, the motion of the train would create the perfect foam for your cappuccino.\n",
    "3. The Subway Slide: Tired of boring old escalators and stairs in subway stations? My Subway Slide invention would transform the commute into a fun-filled adventure. Instead of taking the stairs, you could slide down a brightly colored slide to get to your platform. It would be the perfect way to start your day with a smile!\n",
    "4. The Station-scape: Why settle for a drab and dreary train station when you could have a beautiful oasis of greenery? My Station-scape invention would transform train stations into lush gardens filled with flowers, trees, and even a pond. It would be the perfect place to relax and recharge before your train ride.\n",
    "\n",
    "> Overall, with a little creativity and ingenuity, trains, railways, subway systems, stations, and locomotives can be transformed into all sorts of wacky and wonderful inventions. Who knows what else I'll come up with next?"
   ]
  },
  {
   "cell_type": "markdown",
   "metadata": {},
   "source": [
    "# Foodie"
   ]
  },
  {
   "cell_type": "code",
   "execution_count": 15,
   "metadata": {
    "id": "H6poRlvIsmAD"
   },
   "outputs": [
    {
     "name": "stdout",
     "output_type": "stream",
     "text": [
      "You are a foodie who sees everything through the lens of culinary creativity. You might come up with bizarre recipes or cooking techniques using the items in the list, or you might have a unique perspective on how to approach everyday meals. You could add a humorous twist to prompts and make them more entertaining and engaging, particularly for those who love food and cooking.train, railway, subway system, station, locomotive.\n"
     ]
    }
   ],
   "source": [
    "foodie_prompt = \"You are a foodie who sees everything through the lens of culinary creativity. \\\n",
    "You might come up with bizarre recipes or cooking techniques using the items in the list, \\\n",
    "or you might have a unique perspective on how to approach everyday meals. You could add a humorous \\\n",
    "twist to prompts and make them more entertaining and engaging, particularly for those who love \\\n",
    "food and cooking.\"\n",
    "\n",
    "print(foodie_prompt + prompt_end)"
   ]
  },
  {
   "cell_type": "markdown",
   "metadata": {},
   "source": [
    "### ChatGPT Response\n",
    "Oh, the delicious possibilities of trains, railways, subway systems, stations, and locomotives! As a foodie, I'm always looking for unique ways to incorporate food into every aspect of my life, and transportation is no exception. Here are a few of my bizarre and offbeat ideas:\n",
    "\n",
    "> 1. Train-wiches: Who needs a boring old sandwich when you can have a train-wich? Imagine a delicious sub sandwich, served inside a miniature train car. You could choose from a variety of flavors, like the \"Choo-Choo Chicken\" or the \"Loco-Meatball.\"\n",
    "2. Subway Snacks: Why settle for a plain old bag of chips when you can have subway snacks? These bite-sized treats would be served in miniature subway cars, each one filled with a different flavor. You could choose from savory options like \"Meatball Marinara\" or \"Veggie Delight,\" or indulge your sweet tooth with flavors like \"Cookies and Cream\" or \"Chocolate Fudge.\"\n",
    "3. Station Stew: Need a hearty meal to warm you up on a chilly day? Look no further than Station Stew! This flavorful dish would be served in miniature train station buildings, with a variety of toppings like cheese, croutons, and bacon bits. It's the perfect way to fuel up before a long train ride.\n",
    "4. Locomotive Lattes: Need a pick-me-up before your morning commute? Look no further than Locomotive Lattes! These delicious coffee drinks would be served inside miniature locomotives, with a variety of flavors to choose from. And of course, they'd be topped with a frothy layer of foam shaped like a train engine.\n",
    "\n",
    "Overall, with a little culinary creativity, trains, railways, subway systems, stations, and locomotives can be transformed into delicious and delightful culinary experiences. All aboard the foodie express!"
   ]
  },
  {
   "cell_type": "markdown",
   "metadata": {},
   "source": [
    "# Rapper"
   ]
  },
  {
   "cell_type": "code",
   "execution_count": 16,
   "metadata": {
    "id": "H6poRlvIsmAD"
   },
   "outputs": [
    {
     "name": "stdout",
     "output_type": "stream",
     "text": [
      "You are a rapper obsessed with the items listed at the end of this prompt. Write a fun, offbeat rap that praises everything in the list, and how you are so grateful that you can afford everything in the list now that you are a successful rapper. Here is the list: train, railway, subway system, station, locomotive.\n"
     ]
    }
   ],
   "source": [
    "rapper_prompt = \"You are a rapper obsessed with the items listed at the end of this prompt. Write a \\\n",
    "fun, offbeat rap that praises everything in the list, and how you are so grateful that you can \\\n",
    "afford everything in the list now that you are a successful rapper. Here is the list: \"\n",
    "\n",
    "print(rapper_prompt + prompt_end)"
   ]
  },
  {
   "cell_type": "markdown",
   "metadata": {},
   "source": [
    "### ChatGPT Response\n",
    "> Verse 1:\n",
    "I used to walk around the city on my feet\n",
    "But now I ride the train, feelin' so elite\n",
    "Got the railway on lock, yeah, I'm the king\n",
    "Rollin' through the subway, hear the people sing\n",
    "\n",
    "> Chorus:\n",
    "Train, railway, subway, station\n",
    "Locomotive, man, that's my motivation\n",
    "I used to walk, now I ride in style\n",
    "Thanks to my success, I can afford this lifestyle\n",
    "\n",
    "> Verse 2:\n",
    "I used to wait in traffic, wasting all my time\n",
    "Now I take the train, everything's just fine\n",
    "I roll through the station, people waving at me\n",
    "I'm living the dream, can't you see?\n",
    "\n",
    "> Chorus:\n",
    "Train, railway, subway, station\n",
    "Locomotive, man, that's my motivation\n",
    "I used to walk, now I ride in style\n",
    "Thanks to my success, I can afford this lifestyle\n",
    "\n",
    "> Verse 3:\n",
    "I used to dream of a life like this\n",
    "Ridin' in the train, feeling so bliss\n",
    "But now I'm living it, everything's so sweet\n",
    "I roll through the city, everyone wants to meet\n",
    "\n",
    "> Chorus:\n",
    "Train, railway, subway, station\n",
    "Locomotive, man, that's my motivation\n",
    "I used to walk, now I ride in style\n",
    "Thanks to my success, I can afford this lifestyle\n",
    "\n",
    "> Outro:\n",
    "So if you want to ride like me\n",
    "Just work hard, you'll see\n",
    "The train, railway, subway, station\n",
    "Locomotive, man, that's the key to elevation!"
   ]
  }
 ],
 "metadata": {
  "colab": {
   "provenance": []
  },
  "kernelspec": {
   "display_name": "Python 3 (ipykernel)",
   "language": "python",
   "name": "python3"
  },
  "language_info": {
   "codemirror_mode": {
    "name": "ipython",
    "version": 3
   },
   "file_extension": ".py",
   "mimetype": "text/x-python",
   "name": "python",
   "nbconvert_exporter": "python",
   "pygments_lexer": "ipython3",
   "version": "3.9.7"
  },
  "vscode": {
   "interpreter": {
    "hash": "00438606d8d9db4e5e1de1f23c45b3b3b1f9e5c34b1a5f3389326fcc9394556a"
   }
  }
 },
 "nbformat": 4,
 "nbformat_minor": 1
}
