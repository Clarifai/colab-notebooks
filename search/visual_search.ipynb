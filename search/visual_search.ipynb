{
 "cells": [
  {
   "attachments": {},
   "cell_type": "markdown",
   "metadata": {},
   "source": [
    "<img align=\"top\" width=\"250\" height=\"70\" src=\"https://s3.amazonaws.com/samples.clarifai.com/logo/clarifai_logo.png\" alt=\"banner\">\n",
    "\n",
    "&nbsp;\n",
    "\n",
    "[![Open In Colab](https://colab.research.google.com/assets/colab-badge.svg)](https://colab.research.google.com/github/Clarifai/colab-notebooks/blob/main/search/visual_search.ipynb)\n",
    "\n",
    "# General Information\n",
    "\n",
    "This notebook is to be used to search images on the Clarifai Platform. In this tutorial, you will learn how to upload images with URLs and learn how to perform visual search over your inputs. \n",
    "\n",
    "Note that this has some overlap with the [basic_uploading](https://github.com/Clarifai/colab-notebooks/blob/main/uploading/basic_uploading.ipynb) tutorial.\n",
    "\n",
    "## How to Run\n",
    "You can run each code cell independently by using `SHIFT + ENTER`. You can also run the whole notebook (all cells) using `RUN ALL`.\n",
    "\n",
    "## Expected inputs\n",
    "\n",
    "- The app ID **(required)**\n",
    "- The user ID **(required)**\n",
    "- An PAT key token **(required)**\n",
    "\n",
    "## Limitations\n",
    "\n",
    "- Not meant for text search\n"
   ]
  },
  {
   "attachments": {},
   "cell_type": "markdown",
   "metadata": {},
   "source": [
    "# Python requirements\n",
    "\n",
    "Dependencies:\n",
    "\n",
    "- clarifai_grpc\n",
    "- pillow\n",
    "- tqdm\n",
    "\n",
    "You can run the following cell to install all three required dependencies. They are required for this notebook.\n"
   ]
  },
  {
   "cell_type": "code",
   "execution_count": null,
   "metadata": {
    "vscode": {
     "languageId": "plaintext"
    }
   },
   "outputs": [],
   "source": [
    "%%capture\n",
    "!pip -q install clarifai-grpc==8.11.0\n",
    "!pip -q install pillow==9.4.0\n",
    "!pip -q install tqdm==4.64.1"
   ]
  },
  {
   "attachments": {},
   "cell_type": "markdown",
   "metadata": {},
   "source": [
    "# Imports\n",
    "\n",
    "In this section, we will be importing some of the required libraries."
   ]
  },
  {
   "cell_type": "code",
   "execution_count": null,
   "metadata": {},
   "outputs": [],
   "source": [
    "# Standard imports\n",
    "import re\n",
    "import os\n",
    "import sys\n",
    "import glob\n",
    "import time\n",
    "from typing import Any, List, Tuple, Optional, Dict, Iterator, Iterable\n",
    "from pathlib import Path\n",
    "import requests\n",
    "from io import BytesIO\n",
    "\n",
    "# Imports\n",
    "from PIL import Image\n",
    "from tqdm.notebook import tqdm\n",
    "from google.protobuf.struct_pb2 import Struct\n",
    "from google.protobuf.json_format import MessageToJson, MessageToDict\n",
    "\n",
    "# Clarifai imports\n",
    "from clarifai_grpc.channel.clarifai_channel import ClarifaiChannel\n",
    "from clarifai_grpc.grpc.api import resources_pb2, service_pb2, service_pb2_grpc\n",
    "from clarifai_grpc.grpc.api.status import status_pb2, status_code_pb2\n"
   ]
  },
  {
   "attachments": {},
   "cell_type": "markdown",
   "metadata": {},
   "source": [
    "# Setup\n",
    "For a simple visual search example, please ensure the base workflow of your app is `General`.\n",
    "\n",
    "## Authentication\n",
    "Follow the screenshots in [basic_uploading](https://github.com/Clarifai/colab-notebooks/blob/main/uploading/basic_uploading.ipynb) under Authentication to fill out the variables below."
   ]
  },
  {
   "cell_type": "code",
   "execution_count": null,
   "metadata": {},
   "outputs": [],
   "source": [
    "##################################################################################\n",
    "# In this section, we set the user authentication, app ID, and the workflow id\n",
    "# that we will be using for predictions. Change these strings to run your own example.\n",
    "##################################################################################\n",
    "\n",
    "# Your user id in portal. You can find it under \"profile\" settings\n",
    "USER_ID = \"INPUT YOUR USER ID HERE\"\n",
    "\n",
    "# Your API key for your application. Make sure the API scopes have Model, Predict and Workflow enabled\n",
    "PAT = \"INPUT YOUR PERSONAL ACCESS TOKEN HERE\"\n",
    "\n",
    "# Your unique application ID. It should be written on the top left when first entering the application home page\n",
    "APP_ID = \"INPUT YOUR APP ID HERE\""
   ]
  },
  {
   "attachments": {},
   "cell_type": "markdown",
   "metadata": {},
   "source": [
    "## General Global Variables\n",
    "\n",
    "Global variables that will be reused throughout the notebook. The channel, stub and metadata will be used to call the Clarifai API."
   ]
  },
  {
   "cell_type": "code",
   "execution_count": null,
   "metadata": {},
   "outputs": [],
   "source": [
    "# Construct the communications channel and the object stub to call requests on.\n",
    "channel = ClarifaiChannel.get_grpc_channel()\n",
    "stub = service_pb2_grpc.V2Stub(channel)\n",
    "metadata = ((\"authorization\", \"Key \" + PAT),)\n",
    "\n",
    "# The user data object that will be used for all requests when you are using the PAT authentication\n",
    "# It is not needed if you are calling the API with the API key\n",
    "userDataObject = resources_pb2.UserAppIDSet(user_id=USER_ID, app_id=APP_ID)\n"
   ]
  },
  {
   "attachments": {},
   "cell_type": "markdown",
   "metadata": {},
   "source": [
    "# Helper functions (ignore)\n",
    "\n",
    "This section contains helper functions that simplify and organize the code. You do not have to modify these functions."
   ]
  },
  {
   "cell_type": "code",
   "execution_count": null,
   "metadata": {},
   "outputs": [],
   "source": [
    "def create_input_proto_from_url(url: str)->resources_pb2.Input:\n",
    "    \"\"\"\n",
    "    Returns an Input Protbuf object.\n",
    "    \"\"\"\n",
    "    return resources_pb2.Input(\n",
    "        data=resources_pb2.Data(\n",
    "            image=resources_pb2.Image(url=url),\n",
    "        )\n",
    "    )\n",
    "\n",
    "def create_input_protos_from_urls(urls: List(str))->List[resources_pb2.Input]:\n",
    "    \"\"\"\n",
    "    Returns a list of Input Protbuf objects.\n",
    "    \"\"\"\n",
    "    inputs_pbf_list = []\n",
    "    for url in urls:\n",
    "        inputs_pbf_list.append(create_input_proto_from_url(url))\n",
    "    return inputs_pbf_list"
   ]
  },
  {
   "cell_type": "code",
   "execution_count": null,
   "metadata": {},
   "outputs": [],
   "source": [
    "def post_inputs(\n",
    "    inputs: List[resources_pb2.Input]\n",
    "):\n",
    "    \"\"\"\n",
    "    Uploads images to Clarifai Platform.\n",
    "    \"\"\"\n",
    "    post_inputs_request = service_pb2.PostInputsRequest(\n",
    "        user_app_id=userDataObject,  # The userDataObject is created in the overview and is required when using a PAT\n",
    "        inputs=inputs,\n",
    "    )\n",
    "    post_inputs_response = stub.PostInputs(post_inputs_request, metadata=metadata)\n",
    "    print(post_inputs_response.status)\n",
    "    return post_inputs_response"
   ]
  },
  {
   "cell_type": "code",
   "execution_count": null,
   "metadata": {},
   "outputs": [],
   "source": [
    "def search_by_url(url:str):\n",
    "    \"\"\"\n",
    "    Post a search call with an image URL as query.\n",
    "    \"\"\"\n",
    "    post_annotations_searches_response = stub.PostAnnotationsSearches(\n",
    "        service_pb2.PostAnnotationsSearchesRequest(\n",
    "            user_app_id=userDataObject,\n",
    "            searches = [\n",
    "                resources_pb2.Search(\n",
    "                    query=resources_pb2.Query(\n",
    "                        ranks=[\n",
    "                            resources_pb2.Rank(\n",
    "                                annotation=resources_pb2.Annotation(\n",
    "                                    data=resources_pb2.Data(\n",
    "                                        image=resources_pb2.Image(url=url)\n",
    "                                    )\n",
    "                                )\n",
    "                            )\n",
    "                        ]\n",
    "                    )\n",
    "                )\n",
    "            ]\n",
    "        ),\n",
    "        metadata=metadata\n",
    "    )\n",
    "    print(post_annotations_searches_response.status)\n",
    "    return post_annotations_searches_response"
   ]
  },
  {
   "attachments": {},
   "cell_type": "markdown",
   "metadata": {},
   "source": [
    "# Add Inputs via URL"
   ]
  },
  {
   "cell_type": "code",
   "execution_count": null,
   "metadata": {},
   "outputs": [],
   "source": [
    "image_urls = [\n",
    "    \"https://s3.amazonaws.com/samples.clarifai.com/api-training/test_image_0.jpg\",\n",
    "    \"https://s3.amazonaws.com/samples.clarifai.com/api-training/test_image_1.jpg\",\n",
    "    \"https://s3.amazonaws.com/samples.clarifai.com/api-training/test_image_2.jpg\",\n",
    "    \"https://s3.amazonaws.com/samples.clarifai.com/api-training/test_image_3.jpg\",\n",
    "    \"https://s3.amazonaws.com/samples.clarifai.com/api-training/test_image_4.jpg\",\n",
    "    \"https://s3.amazonaws.com/samples.clarifai.com/api-training/test_image_5.jpg\"\n",
    "]"
   ]
  },
  {
   "attachments": {},
   "cell_type": "markdown",
   "metadata": {},
   "source": [
    "## Upload\n",
    "\n",
    "The respons should return SUCCESS."
   ]
  },
  {
   "cell_type": "code",
   "execution_count": null,
   "metadata": {},
   "outputs": [],
   "source": [
    "inputs = create_input_protos_from_urls(image_urls)\n",
    "post_inputs(inputs)"
   ]
  },
  {
   "attachments": {},
   "cell_type": "markdown",
   "metadata": {},
   "source": [
    "## Search"
   ]
  },
  {
   "cell_type": "markdown",
   "metadata": {},
   "source": []
  }
 ],
 "metadata": {
  "language_info": {
   "name": "python"
  },
  "orig_nbformat": 4
 },
 "nbformat": 4,
 "nbformat_minor": 2
}
